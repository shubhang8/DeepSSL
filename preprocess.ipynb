{
 "cells": [
  {
   "cell_type": "code",
   "execution_count": 2,
   "metadata": {},
   "outputs": [],
   "source": [
    "import sys\n",
    "import h5py\n",
    "import numpy as np\n",
    "from scipy.io import loadmat\n",
    "\n",
    "# sys.argv should be file paths to train.mat, valid.mat, test.mat\n",
    "\n",
    "def load_files(train_file, valid_file, test_file):\n",
    "    with h5py.File(train_file, 'r') as train_data:\n",
    "        train_labels = np.transpose(train_data['traindata'], (1, 0))\n",
    "\n",
    "        traindata = train_data['trainxdata']\n",
    "        train_inputs = np.empty((4400000, 1000), dtype=np.float32)\n",
    "        for i in range(int(4400000/1000)):\n",
    "            train_inputs[i*1000:(i+1)*1000] = np.transpose(np.argmax(traindata[:, :, i*1000:(i+1)*1000], axis=1))\n",
    "\n",
    "    valid_data = loadmat(valid_file)\n",
    "\n",
    "    valid_labels = valid_data['validdata']\n",
    "    valid_inputs = np.argmax(valid_data['validxdata'], axis = 1)\n",
    "\n",
    "    test_data = loadmat(test_file)\n",
    "\n",
    "    test_labels = test_data['testdata']\n",
    "    test_inputs = np.argmax(test_data['testxdata'], axis = 1)\n",
    "\n",
    "    return train_inputs, train_labels, valid_inputs, valid_labels, test_inputs, test_labels\n",
    "\n",
    "def get_kmers(inputs, labels, dna_dict, len_kmer):\n",
    "    kmers = np.empty((len(inputs), int(len(inputs[0])/len_kmer + 1)), dtype=object)\n",
    "\n",
    "    for i in range(len(inputs)):\n",
    "        curr_index = 0\n",
    "        for j in range(int(len(inputs[0])/len_kmer)):\n",
    "            kmer = ''\n",
    "            for k in range(len_kmer):\n",
    "                kmer += dna_dict[inputs[i, curr_index]]\n",
    "                curr_index += 1\n",
    "            kmers[i, j] = kmer\n",
    "        kmers[i, -1] = labels[i]\n",
    "\n",
    "    return kmers"
   ]
  },
  {
   "cell_type": "code",
   "execution_count": 3,
   "metadata": {},
   "outputs": [],
   "source": [
    "dna_dict = {\n",
    "    0: \"A\",\n",
    "    1: \"C\",\n",
    "    2: \"T\",\n",
    "    3: \"G\"\n",
    "}"
   ]
  },
  {
   "cell_type": "code",
   "execution_count": 4,
   "metadata": {},
   "outputs": [],
   "source": [
    "ks = [3,4,5,6]"
   ]
  },
  {
   "cell_type": "code",
   "execution_count": 5,
   "metadata": {},
   "outputs": [],
   "source": [
    "train_file = \"./deepsea_train/train.mat\"\n",
    "valid_file = \"./deepsea_train/valid.mat\"\n",
    "test_file = \"./deepsea_train/test.mat\"\n",
    "train_inputs, train_labels, valid_inputs, valid_labels, test_inputs, test_labels = load_files(train_file, valid_file, test_file)"
   ]
  },
  {
   "cell_type": "code",
   "execution_count": 8,
   "metadata": {},
   "outputs": [
    {
     "data": {
      "text/plain": [
       "4400000"
      ]
     },
     "execution_count": 8,
     "metadata": {},
     "output_type": "execute_result"
    }
   ],
   "source": [
    "len(train_inputs)"
   ]
  },
  {
   "cell_type": "code",
   "execution_count": 10,
   "metadata": {},
   "outputs": [
    {
     "data": {
      "text/plain": [
       "455024"
      ]
     },
     "execution_count": 10,
     "metadata": {},
     "output_type": "execute_result"
    }
   ],
   "source": [
    "len(test_inputs)"
   ]
  },
  {
   "cell_type": "code",
   "execution_count": 6,
   "metadata": {},
   "outputs": [
    {
     "ename": "KeyboardInterrupt",
     "evalue": "",
     "output_type": "error",
     "traceback": [
      "\u001b[0;31m-----------------------------------------\u001b[0m",
      "\u001b[0;31mKeyboardInterrupt\u001b[0mTraceback (most recent call last)",
      "\u001b[0;32m<ipython-input-6-e5e1a51510ff>\u001b[0m in \u001b[0;36m<module>\u001b[0;34m()\u001b[0m\n\u001b[1;32m      5\u001b[0m     \u001b[0mvalid_kmers\u001b[0m \u001b[0;34m=\u001b[0m \u001b[0mget_kmers\u001b[0m\u001b[0;34m(\u001b[0m\u001b[0mvalid_inputs\u001b[0m\u001b[0;34m,\u001b[0m \u001b[0mvalid_labels\u001b[0m\u001b[0;34m,\u001b[0m \u001b[0mdna_dict\u001b[0m\u001b[0;34m,\u001b[0m \u001b[0mk\u001b[0m\u001b[0;34m)\u001b[0m\u001b[0;34m\u001b[0m\u001b[0;34m\u001b[0m\u001b[0m\n\u001b[1;32m      6\u001b[0m     \u001b[0mtest_kmers\u001b[0m \u001b[0;34m=\u001b[0m \u001b[0mget_kmers\u001b[0m\u001b[0;34m(\u001b[0m\u001b[0mtest_inputs\u001b[0m\u001b[0;34m,\u001b[0m \u001b[0mtest_labels\u001b[0m\u001b[0;34m,\u001b[0m \u001b[0mdna_dict\u001b[0m\u001b[0;34m,\u001b[0m \u001b[0mk\u001b[0m\u001b[0;34m)\u001b[0m\u001b[0;34m\u001b[0m\u001b[0;34m\u001b[0m\u001b[0m\n\u001b[0;32m----> 7\u001b[0;31m     \u001b[0mtrain_kmers\u001b[0m \u001b[0;34m=\u001b[0m \u001b[0mget_kmers\u001b[0m\u001b[0;34m(\u001b[0m\u001b[0mtrain_inputs\u001b[0m\u001b[0;34m,\u001b[0m \u001b[0mtrain_labels\u001b[0m\u001b[0;34m,\u001b[0m \u001b[0mdna_dict\u001b[0m\u001b[0;34m,\u001b[0m \u001b[0mk\u001b[0m\u001b[0;34m)\u001b[0m\u001b[0;34m\u001b[0m\u001b[0;34m\u001b[0m\u001b[0m\n\u001b[0m",
      "\u001b[0;32m<ipython-input-2-06a3e28a120e>\u001b[0m in \u001b[0;36mget_kmers\u001b[0;34m(inputs, labels, dna_dict, len_kmer)\u001b[0m\n\u001b[1;32m     35\u001b[0m             \u001b[0mkmer\u001b[0m \u001b[0;34m=\u001b[0m \u001b[0;34m''\u001b[0m\u001b[0;34m\u001b[0m\u001b[0;34m\u001b[0m\u001b[0m\n\u001b[1;32m     36\u001b[0m             \u001b[0;32mfor\u001b[0m \u001b[0mk\u001b[0m \u001b[0;32min\u001b[0m \u001b[0mrange\u001b[0m\u001b[0;34m(\u001b[0m\u001b[0mlen_kmer\u001b[0m\u001b[0;34m)\u001b[0m\u001b[0;34m:\u001b[0m\u001b[0;34m\u001b[0m\u001b[0;34m\u001b[0m\u001b[0m\n\u001b[0;32m---> 37\u001b[0;31m                 \u001b[0mkmer\u001b[0m \u001b[0;34m+=\u001b[0m \u001b[0mdna_dict\u001b[0m\u001b[0;34m[\u001b[0m\u001b[0minputs\u001b[0m\u001b[0;34m[\u001b[0m\u001b[0mi\u001b[0m\u001b[0;34m,\u001b[0m \u001b[0mcurr_index\u001b[0m\u001b[0;34m]\u001b[0m\u001b[0;34m]\u001b[0m\u001b[0;34m\u001b[0m\u001b[0;34m\u001b[0m\u001b[0m\n\u001b[0m\u001b[1;32m     38\u001b[0m                 \u001b[0mcurr_index\u001b[0m \u001b[0;34m+=\u001b[0m \u001b[0;36m1\u001b[0m\u001b[0;34m\u001b[0m\u001b[0;34m\u001b[0m\u001b[0m\n\u001b[1;32m     39\u001b[0m             \u001b[0mkmers\u001b[0m\u001b[0;34m[\u001b[0m\u001b[0mi\u001b[0m\u001b[0;34m,\u001b[0m \u001b[0mj\u001b[0m\u001b[0;34m]\u001b[0m \u001b[0;34m=\u001b[0m \u001b[0mkmer\u001b[0m\u001b[0;34m\u001b[0m\u001b[0;34m\u001b[0m\u001b[0m\n",
      "\u001b[0;31mKeyboardInterrupt\u001b[0m: "
     ]
    }
   ],
   "source": [
    "#ks = [3,4,5,6]\n",
    "ks = [3,]\n",
    "\n",
    "for k in ks:\n",
    "    valid_kmers = get_kmers(valid_inputs, valid_labels, dna_dict, k)\n",
    "    test_kmers = get_kmers(test_inputs, test_labels, dna_dict, k)\n",
    "    train_kmers = get_kmers(train_inputs, train_labels, dna_dict, k)"
   ]
  },
  {
   "cell_type": "code",
   "execution_count": null,
   "metadata": {},
   "outputs": [],
   "source": []
  }
 ],
 "metadata": {
  "kernelspec": {
   "display_name": "Python 3",
   "language": "python",
   "name": "python3"
  },
  "language_info": {
   "codemirror_mode": {
    "name": "ipython",
    "version": 3
   },
   "file_extension": ".py",
   "mimetype": "text/x-python",
   "name": "python",
   "nbconvert_exporter": "python",
   "pygments_lexer": "ipython3",
   "version": "3.7.2"
  }
 },
 "nbformat": 4,
 "nbformat_minor": 4
}
